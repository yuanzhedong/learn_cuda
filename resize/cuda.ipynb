{
 "cells": [
  {
   "cell_type": "code",
   "execution_count": 1,
   "metadata": {},
   "outputs": [],
   "source": [
    "import numpy as np\n",
    "import pycuda.driver as cuda"
   ]
  },
  {
   "cell_type": "code",
   "execution_count": 2,
   "metadata": {},
   "outputs": [],
   "source": [
    "import cv2\n",
    "def resize_cpu(image, dsize):\n",
    "    return cv2.resize(image, dsize=dsize)"
   ]
  },
  {
   "cell_type": "code",
   "execution_count": 3,
   "metadata": {},
   "outputs": [],
   "source": [
    "import cv2\n",
    "image = cv2.imread(\"./lena.png\")\n",
    "image = resize_cpu(image, (1280, 760))"
   ]
  },
  {
   "cell_type": "code",
   "execution_count": 12,
   "metadata": {},
   "outputs": [
    {
     "name": "stdout",
     "output_type": "stream",
     "text": [
      "[169 169 168 168 168 167 168 169 169 169 168 168 164 166 167 164 163 164\n",
      " 166 167 163 163 163 164 162 163 163 162 162 163 161 163 163 164 164 165\n",
      " 166 170 169 170 173 173 173 175 177 179 180 178 177 178 175 177 176 174\n",
      " 171 169 162 158 160 156 143 137 129 123 112 110 107 105 102 104 110 110\n",
      " 111 111 113 115 116 116 116 119 121 120 118 118 116 118 118 119 119 119\n",
      " 118 119 121 121 119 119 119 120 120 119 116 116 117 119 119 121 125 125\n",
      " 124 127 131 131 126 130 133 132 133 134 132 134 136 138 140 137 135 137\n",
      " 141 142 142 142 144 143 139 140 141 140 142 144 143 143 143 143 140 140\n",
      " 143 141 139 139 141 141 140 140 139 140 140 139 143 144 144 144 141 143\n",
      " 143 143 143 144 144 145 144 145 144 145 145 145 144 144 145 145 143 144\n",
      " 143 143 142 143 144 144 145 145 143 142 143 143 143 145 144 144 145 146\n",
      " 145 145 145 145 143 144 145 146 143 142 145 145 143 145 144 143 141 141\n",
      " 141 139 141 142 143 143 141 142 142 140 143 143 143 144 141 142 143 143\n",
      " 143 143 142 143 143 144 145 145 143 144 144 144 144 146 144 144 143 144\n",
      " 141 141 143 145 147 149 146 143 142 141 139 138 142 144 140 140 143 144\n",
      " 143 141 139 138 140 143 139 139 143 144 142 139 137 139 140 140 142 141\n",
      " 137 140 142 141 141 140 140 139 137 138 137 137 138 140 138 137 133 133\n",
      " 134 133 131 132 131 130 127 125 123 123 123 121 115 113 116 120 127 129\n",
      " 132 137 144 147 149 151 153 156 159 160 161 163 165 165 168 167 166 167\n",
      " 163 163 158 157 159 159 159 160 160 161 160 162 162 161 163 164 162 161\n",
      " 164 165 164 164 163 162 160 162 161 160 160 161 162 161 160 160 161 161\n",
      " 160 162 163 162 161 160 161 163 162 163 164 164 163 162 162 165 165 165\n",
      " 164 164 164 162 161 162 164 174 191 199 206 209 214 215 215 217 219 220\n",
      " 220 220 221 220 214 210 199 186 163 144 119 115 112 112 112 116 116 119\n",
      " 124 126 127 128 128 128 128 131 134 132 130 129 128 131 132 130 131 132\n",
      " 132 134 131 129 130 129 130 133 133 132 131 133 131 133 131 132 138 135\n",
      " 133 134 134 134 135 136 133 133 134 135 130 128 135 135 134 135 136 138\n",
      " 135 134 136 134 136 136 135 136 132 132 127 128 128 129 129 127 128 132\n",
      " 144 159 172 174 177 177 166 150]\n",
      "[169 169 168 167 168 165 170 167 170 167 169 167 164 168 166 162 164 163\n",
      " 167 167 162 164 163 164 161 164 163 161 163 162 161 164 162 165 164 166\n",
      " 167 172 168 172 173 173 173 177 177 181 179 176 178 178 175 179 175 173\n",
      " 170 167 160 157 160 150 140 133 128 117 111 110 106 103 102 107 111 108\n",
      " 112 110 114 115 116 116 117 121 120 119 118 117 116 119 118 120 118 119\n",
      " 118 119 122 120 118 120 119 120 120 118 115 116 118 119 119 122 126 123\n",
      " 125 128 132 130 126 133 132 132 134 133 132 136 136 140 139 135 135 139\n",
      " 142 142 142 141 144 140 139 141 141 139 143 145 142 144 143 142 139 141\n",
      " 143 139 140 138 142 140 140 140 139 141 139 140 144 144 144 144 141 145\n",
      " 142 144 143 144 144 145 144 145 144 146 145 144 144 144 146 144 143 144\n",
      " 143 143 141 144 144 144 145 145 142 142 143 142 144 145 143 144 146 146\n",
      " 144 146 145 144 143 145 145 146 142 142 146 142 143 147 143 142 140 142\n",
      " 141 138 142 142 143 143 140 143 141 140 144 142 143 144 140 144 143 143\n",
      " 143 143 142 143 143 144 145 144 143 145 144 144 144 147 143 144 143 144\n",
      " 140 141 144 146 147 151 145 142 142 140 138 139 144 144 139 141 144 143\n",
      " 142 138 140 137 142 143 138 140 144 143 141 137 137 141 139 141 142 138\n",
      " 138 142 142 140 141 138 140 136 137 139 136 137 138 141 137 136 132 133\n",
      " 134 132 131 132 131 128 126 124 123 122 123 118 114 113 118 123 128 129\n",
      " 134 141 145 148 150 151 154 157 160 160 161 164 165 165 169 165 167 167\n",
      " 162 163 157 158 160 158 160 159 160 161 160 164 161 160 164 163 161 161\n",
      " 165 165 163 164 162 162 160 164 160 159 161 161 162 160 160 160 161 160\n",
      " 160 164 162 162 160 160 162 164 161 164 164 164 162 161 163 166 165 165\n",
      " 163 164 164 160 161 162 166 182 195 202 208 211 215 214 215 218 220 220\n",
      " 220 220 222 218 213 207 195 176 156 131 116 114 111 112 113 118 116 123\n",
      " 125 126 128 127 128 127 129 133 134 130 130 127 129 133 131 128 132 131\n",
      " 132 135 130 128 131 127 131 134 133 130 132 134 131 135 130 135 138 131\n",
      " 134 134 134 134 136 136 132 134 134 136 129 129 137 132 135 135 136 139\n",
      " 134 135 136 133 138 134 136 136 131 132 126 130 127 130 128 126 130 135\n",
      " 149 168 173 175 178 174 162 140]\n"
     ]
    }
   ],
   "source": [
    "import pycuda.driver as drv\n",
    "import pycuda.tools\n",
    "import pycuda.autoinit\n",
    "from pycuda.compiler import SourceModule\n",
    "import numpy as np\n",
    "import cv2\n",
    "def resize_cpu(image, dsize):\n",
    "    return cv2.resize(image, dsize=dsize)\n",
    "\n",
    "mod = SourceModule \\\n",
    "    (\n",
    "    \"\"\"\n",
    "    #include <stdint.h>\n",
    "    \n",
    "__global__ void gpuResize( uint8_t* input, int iWidth, int iHeight, uint8_t* output, int oWidth, int oHeight, float scale_x, float scale_y )\n",
    "{\n",
    "    const int x = blockIdx.x * blockDim.x + threadIdx.x;\n",
    "    const int y = blockIdx.y * blockDim.y + threadIdx.y;\n",
    "    //const float2 scale = make_float2( float(iWidth) / float(oWidth), float(iHeight) / float(oHeight) );\n",
    "    \n",
    "    if( x >= oWidth || y >= oHeight )\n",
    "        return;\n",
    "    \n",
    "    const int dx = ((float)x * scale_x);\n",
    "    const int dy = ((float)y * scale_y);\n",
    "    //printf(\"%d, %d\\\\n \", dx, dy);\n",
    "    const uint8_t px = input[ dy * iWidth + dx ];\n",
    "    output[y*oWidth+x] = px;\n",
    "}\n",
    "\"\"\")\n",
    "\n",
    "input = cv2.imread(\"./lena.png\", 0)\n",
    "# print(input.shape)\n",
    "# print(input[0])\n",
    "#exit(0)\n",
    "input = resize_cpu(input, (1280, 760))\n",
    "#input = np.ones((512, 512), dtype=np.uint8)\n",
    "target_size = 512\n",
    "ref = resize_cpu(input, (target_size, target_size))\n",
    "output = np.zeros((target_size, target_size), dtype=np.uint8) # specify output type to uint8\n",
    "# print(input.shape)\n",
    "# print(output.shape)\n",
    "gpuResize = mod.get_function(\"gpuResize\")\n",
    "\n",
    "gpuResize(drv.In(input), np.int32(input.shape[1]), np.int32(input.shape[0]), drv.Out(output), np.int32(output.shape[1]), np.int32(output.shape[0]), np.float32(float(input.shape[1]) / output.shape[1]), np.float32(float(input.shape[0]) / output.shape[0]), block=(8, 8, 1), grid=(256, 256, 1))\n",
    "# print(input[0:16, 0:16].sum() / 16 / 16)\n",
    "# print(input[0:16, 16:32].sum() / 16 / 16)\n",
    "# print(input[7:9, 7:9].mean())\n",
    "print(output[0])\n",
    "print(ref[0])\n",
    "# print((output == ref).all())\n"
   ]
  },
  {
   "cell_type": "code",
   "execution_count": 14,
   "metadata": {},
   "outputs": [
    {
     "name": "stdout",
     "output_type": "stream",
     "text": [
      "1000 loops, best of 3: 1.67 ms per loop\n"
     ]
    }
   ],
   "source": [
    "%timeit -n 1000 gpuResize(drv.In(input), np.int32(input.shape[1]), np.int32(input.shape[0]), drv.Out(output), np.int32(output.shape[1]), np.int32(output.shape[0]), np.float32(float(input.shape[1]) / output.shape[1]), np.float32(float(input.shape[0]) / output.shape[0]), block=(8, 8, 1), grid=(256, 256, 1))"
   ]
  },
  {
   "cell_type": "code",
   "execution_count": 6,
   "metadata": {},
   "outputs": [
    {
     "data": {
      "text/plain": [
       "(512, 512)"
      ]
     },
     "execution_count": 6,
     "metadata": {},
     "output_type": "execute_result"
    }
   ],
   "source": [
    "output.shape"
   ]
  },
  {
   "cell_type": "code",
   "execution_count": 15,
   "metadata": {},
   "outputs": [
    {
     "name": "stdout",
     "output_type": "stream",
     "text": [
      "1000 loops, best of 3: 277 µs per loop\n"
     ]
    }
   ],
   "source": [
    "%timeit -n 1000 output = resize_cpu(input, (target_size, target_size))"
   ]
  },
  {
   "cell_type": "code",
   "execution_count": 37,
   "metadata": {},
   "outputs": [
    {
     "data": {
      "text/plain": [
       "(512, 512)"
      ]
     },
     "execution_count": 37,
     "metadata": {},
     "output_type": "execute_result"
    }
   ],
   "source": [
    "output.shape"
   ]
  },
  {
   "cell_type": "code",
   "execution_count": 38,
   "metadata": {},
   "outputs": [
    {
     "data": {
      "text/plain": [
       "(760, 1280)"
      ]
     },
     "execution_count": 38,
     "metadata": {},
     "output_type": "execute_result"
    }
   ],
   "source": [
    "input.shape"
   ]
  },
  {
   "cell_type": "code",
   "execution_count": 30,
   "metadata": {},
   "outputs": [
    {
     "data": {
      "text/plain": [
       "512"
      ]
     },
     "execution_count": 30,
     "metadata": {},
     "output_type": "execute_result"
    }
   ],
   "source": [
    "target_size"
   ]
  },
  {
   "cell_type": "code",
   "execution_count": null,
   "metadata": {},
   "outputs": [],
   "source": [
    "img = np.array([[1,1,2,2],\n",
    "               [1,1,2,2],\n",
    "               [1,1,3,4],\n",
    "               [1,1,3,4]], dtype=np.uint8)\n",
    "print(img.shape)\n",
    "resized = cv2.resize(img, (2, 2))\n",
    "print(resized)"
   ]
  },
  {
   "cell_type": "code",
   "execution_count": 15,
   "metadata": {},
   "outputs": [
    {
     "name": "stdout",
     "output_type": "stream",
     "text": [
      "(512, 512)\n",
      "(512, 512)\n",
      "(512, 512)\n",
      "-1.3206821641083835e-117\n",
      "169\n"
     ]
    }
   ],
   "source": [
    "import pycuda.driver as drv\n",
    "import pycuda.tools\n",
    "import pycuda.autoinit\n",
    "from pycuda.compiler import SourceModule\n",
    "import numpy as np\n",
    "\n",
    "mod = SourceModule \\\n",
    "    (\n",
    "    \"\"\"\n",
    "    #include <stdint.h>\n",
    "    \n",
    "__global__ void gpuResize( uint8_t* input, int iWidth, int iHeight, uint8_t* output, int oWidth, int oHeight )\n",
    "{\n",
    "    const int x = blockIdx.x * blockDim.x + threadIdx.x;\n",
    "    const int y = blockIdx.y * blockDim.y + threadIdx.y;\n",
    "    const float2 scale = make_float2( float(iWidth) / float(oWidth), float(iHeight) / float(oHeight) );\n",
    "    \n",
    "    if( x >= oWidth || y >= oHeight )\n",
    "        return;\n",
    "    \n",
    "    const int dx = ((float)x * scale.x);\n",
    "    const int dy = ((float)y * scale.y);\n",
    "\n",
    "    int count = 0;\n",
    "    int sum = 0;\n",
    "    for (size_t i = dx; i < dx + scale.x; ++i) {\n",
    "       for (size_t j = dy; j < dy + scale.y; ++j) {\n",
    "          if (i >= iWidth || j >= iHeight) { \n",
    "                 continue;\n",
    "          }\n",
    "          const uint8_t px = input[j * iWidth + i];\n",
    "          sum += px;\n",
    "          count += 1;\n",
    "       }\n",
    "    }\n",
    "    output[y*oWidth+x] =  (int)floor((float) sum / count + 0.5f);\n",
    "}\n",
    "\"\"\")\n",
    "\n",
    "#a = np.random.randint(0, 256, (512, 512, 3), dtype=np.uint8)\n",
    "input = np.array([[1,1,2,2],\n",
    "               [1,1,2,2],\n",
    "               [3,3,4,3],\n",
    "               [3,3,4,2]], dtype=np.uint8)\n",
    "output = np.zeros((2, 2), dtype=np.uint8)\n",
    "\n",
    "input = np.array([[3, 106, 107, 40, 148, 112, 254, 151],\n",
    "                [62, 173, 91, 93, 33, 111, 139, 25],\n",
    "                [99, 137, 80, 231, 101, 204, 74, 219],\n",
    "                [240, 173, 85, 14, 40, 230, 160, 152],\n",
    "                [230, 200, 177, 149, 173, 239, 103, 74],\n",
    "                [19, 50, 209, 82, 241, 103, 3, 87],\n",
    "                [252, 191, 55, 154, 171, 107, 6, 123],\n",
    "                [7, 101, 168, 85, 115, 103, 32, 11]],\n",
    "                dtype=np.uint8)\n",
    "output = np.zeros((input.shape[1]//2, input.shape[0]//2), dtype=np.uint8)\n",
    "\n",
    "input = cv2.imread(\"./lena.png\", 0)\n",
    "print(input.shape)\n",
    "ref = resize_cpu(input, (512, 512))\n",
    "output = np.zeros((512, 512))\n",
    "print(input.shape)\n",
    "print(output.shape)\n",
    "gpuResize = mod.get_function(\"gpuResize\")\n",
    "\n",
    "gpuResize(drv.In(input), np.int32(input.shape[1]), np.int32(input.shape[0]), drv.Out(output), np.int32(output.shape[1]), np.int32(output.shape[0]),block=(8, 8, 1), grid=(256, 256, 1))\n",
    "print(output[0][0])\n",
    "print(ref[0][0])"
   ]
  },
  {
   "cell_type": "code",
   "execution_count": null,
   "metadata": {
    "scrolled": false
   },
   "outputs": [],
   "source": [
    "import numpy as np\n",
    "import cv2\n",
    "\n",
    "def standardize_cpu(image):\n",
    "    rgb_means = [0.485, 0.456, 0.406]\n",
    "    rgb_means_array = np.reshape(np.array(rgb_means), (1, 1, len(rgb_means)))\n",
    "\n",
    "    rgb_stddevs = [0.229, 0.224, 0.225]\n",
    "    rgb_stddevs_array = np.reshape(np.array(rgb_stddevs), (1, 1, len(rgb_stddevs)))\n",
    "\n",
    "    image = image / 255.0\n",
    "    image -= rgb_means_array\n",
    "    image /= rgb_stddevs_array\n",
    "    return image\n",
    "\n",
    "import pycuda.driver as drv\n",
    "import pycuda.tools\n",
    "import pycuda.autoinit\n",
    "from pycuda.compiler import SourceModule\n",
    "import numpy as np\n",
    "\n",
    "mod = SourceModule \\\n",
    "    (\n",
    "        \"\"\"                                                                                                                                                                              \n",
    "                                                                                                                                                                                                                                                                                                                                                      \n",
    "__global__ void standardize(float *dest_r, float *dest_g, float *dest_b, float *r_img, float *g_img, float *b_img)                                                                       \n",
    "{                                                                                                                                                                                        \n",
    "\n",
    "unsigned int idx = threadIdx.x+(blockIdx.x*(blockDim.x*blockDim.y));\n",
    "\n",
    "dest_r[idx] = ((r_img[idx]/255 - 0.485)) / 0.229;\n",
    "dest_g[idx] = ((g_img[idx]/255 - 0.456)) / 0.224;\n",
    "dest_b[idx] = ((b_img[idx]/255 - 0.406)) / 0.225;                                                                                                                                                                                  \n",
    "}                                                                                                                                                                                        \n",
    "                                                                                                                                                                                         \n",
    "\"\"\")\n",
    "a = np.random.randint(0, 256, (512, 512, 3), dtype=np.uint8)\n",
    "#a = np.load(\"/home/nvidia/resized.npy\")\n",
    "#a = cv2.imread(\"./lena2.png\")\n",
    "# r_img = a[:, :, 0].reshape(262144, order='F').astype(np.float32)\n",
    "# g_img = a[:, :, 1].reshape(262144, order='F').astype(np.float32)\n",
    "# b_img = a[:, :, 2].reshape(262144, order='F').astype(np.float32)\n",
    "r_img = a[:, :, 0].reshape(262144).astype(np.float32)\n",
    "g_img = a[:, :, 1].reshape(262144).astype(np.float32)\n",
    "b_img = a[:, :, 2].reshape(262144).astype(np.float32)\n",
    "dest_r=np.zeros_like(r_img).astype(np.float32)\n",
    "dest_g=np.zeros_like(g_img).astype(np.float32)\n",
    "dest_b=np.zeros_like(b_img).astype(np.float32)\n",
    "standardize = mod.get_function(\"standardize\")\n",
    "standardize(drv.Out(dest_r), drv.Out(dest_g), drv.Out(dest_b), drv.In(r_img), drv.In(g_img),drv.In(b_img),block=(1024, 1, 1), grid=(256, 1, 1))\n",
    "\n",
    "res_cpu = standardize_cpu(a)\n",
    "# dest_r=np.reshape(dest_r,(512,512), order='F')\n",
    "# print(np.allclose(dest_r, res_cpu[:,:,0]))\n",
    "# dest_g=np.reshape(dest_g,(512,512), order='F')\n",
    "# print(np.allclose(dest_g, res_cpu[:,:,1]))\n",
    "# dest_b=np.reshape(dest_b,(512,512), order='F')\n",
    "# print(np.allclose(dest_b, res_cpu[:,:,2]))\n",
    "\n",
    "res_gpu_2 = np.concatenate((dest_r, dest_g, dest_b), axis=None)\n",
    "res_cpu_2 = res_cpu.transpose((2, 0, 1)).ravel()\n",
    "print(np.allclose(res_gpu_2, res_cpu_2))"
   ]
  },
  {
   "cell_type": "code",
   "execution_count": null,
   "metadata": {},
   "outputs": [],
   "source": [
    "standardize_cpu(image)"
   ]
  },
  {
   "cell_type": "code",
   "execution_count": null,
   "metadata": {},
   "outputs": [],
   "source": [
    "import cv2\n",
    "image = cv2.imread(\"./lena.png\")\n",
    "image2 = cv2.resize(image, (256, 256))\n",
    "cv2.imwrite(\"./lena2.png\", image2)\n",
    "image = image2\n",
    "print(image.shape)"
   ]
  },
  {
   "cell_type": "code",
   "execution_count": null,
   "metadata": {},
   "outputs": [],
   "source": [
    "standardize(image)"
   ]
  },
  {
   "cell_type": "code",
   "execution_count": null,
   "metadata": {},
   "outputs": [],
   "source": [
    "image"
   ]
  },
  {
   "cell_type": "code",
   "execution_count": null,
   "metadata": {},
   "outputs": [],
   "source": [
    "import cv2\n",
    "import numpy as np\n",
    "def standardize_cpu(image):\n",
    "    rgb_means = [0.485, 0.456, 0.406]\n",
    "    rgb_means_array = np.reshape(np.array(rgb_means), (1, 1, len(rgb_means)))\n",
    "\n",
    "    rgb_stddevs = [0.229, 0.224, 0.225]\n",
    "    rgb_stddevs_array = np.reshape(np.array(rgb_stddevs), (1, 1, len(rgb_stddevs)))\n",
    "\n",
    "    image = image / 255.0\n",
    "    image -= rgb_means_array\n",
    "    image /= rgb_stddevs_array\n",
    "    return image"
   ]
  },
  {
   "cell_type": "code",
   "execution_count": null,
   "metadata": {},
   "outputs": [],
   "source": [
    "import pycuda.driver as drv\n",
    "import pycuda.tools\n",
    "import pycuda.autoinit\n",
    "from pycuda.compiler import SourceModule\n",
    "import numpy as np\n",
    "import scipy.misc as scm\n",
    "import matplotlib.pyplot as p\n",
    "\n",
    "mod = SourceModule \\\n",
    "    (\n",
    "        \"\"\"\n",
    "#include<stdio.h>\n",
    "#define INDEX(a, b) a*512+b\n",
    "\n",
    "__global__ void standardize(float *dest_r, float *dest_g, float *dest_b, float *r_img, float *g_img, float *b_img)\n",
    "{\n",
    "\n",
    "unsigned int idx = threadIdx.x+(blockIdx.x*(blockDim.x*blockDim.y));\n",
    "\n",
    "  unsigned int a = idx/512;\n",
    "  unsigned int b = idx%512;\n",
    "\n",
    "dest_r[INDEX(a, b)] = ((r_img[INDEX(a, b)]/255 - 0.485)) / 0.229;\n",
    "dest_g[INDEX(a, b)] = ((g_img[INDEX(a, b)]/255 - 0.456)) / 0.224;\n",
    "dest_b[INDEX(a, b)] = ((b_img[INDEX(a, b)]/255 - 0.406)) / 0.225;\n",
    "\n",
    "\n",
    "}\n",
    "\n",
    "\"\"\")\n",
    "a = cv2.imread('./lena.png').astype(np.float32)\n",
    "r_img = a[:, :, 0].reshape(262144, order='F')\n",
    "g_img = a[:, :, 1].reshape(262144, order='F')\n",
    "b_img = a[:, :, 2].reshape(262144, order='F')\n",
    "dest_r=r_img\n",
    "dest_g=g_img\n",
    "dest_b=b_img\n",
    "standardize = mod.get_function(\"standardize\")\n",
    "standardize(drv.Out(dest_r), drv.Out(dest_g), drv.Out(dest_b), drv.In(r_img), drv.In(g_img),drv.In(b_img),block=(1024, 1, 1), grid=(256, 1, 1))\n",
    "\n",
    "dest_r=np.reshape(dest_r,(512,512), order='F')\n",
    "dest_b=np.reshape(dest_b,(512,512), order='F')\n",
    "p.imshow(dest_b)\n",
    "p.show()"
   ]
  },
  {
   "cell_type": "code",
   "execution_count": null,
   "metadata": {},
   "outputs": [],
   "source": []
  },
  {
   "cell_type": "code",
   "execution_count": null,
   "metadata": {},
   "outputs": [],
   "source": [
    "image = cv2.imread(\"./lena.png\")\n",
    "res_cpu = standardize_cpu(image)\n",
    "dest_r=np.reshape(dest_r,(512,512), order='F')\n",
    "print(np.allclose(dest_r, res_cpu[:,:,0]))\n",
    "dest_g=np.reshape(dest_g,(512,512), order='F')\n",
    "print(np.allclose(dest_g, res_cpu[:,:,1]))\n",
    "dest_b=np.reshape(dest_b,(512,512), order='F')\n",
    "print(np.allclose(dest_b, res_cpu[:,:,2]))"
   ]
  },
  {
   "cell_type": "code",
   "execution_count": null,
   "metadata": {},
   "outputs": [],
   "source": [
    "res_cpu = res_cpu.transpose((2, 0, 1)).ravel()"
   ]
  },
  {
   "cell_type": "code",
   "execution_count": null,
   "metadata": {},
   "outputs": [],
   "source": [
    "image = np.concatenate((dest_r, dest_g, dest_b), axis=None)"
   ]
  },
  {
   "cell_type": "code",
   "execution_count": null,
   "metadata": {},
   "outputs": [],
   "source": [
    "res_cpu.shape"
   ]
  },
  {
   "cell_type": "code",
   "execution_count": null,
   "metadata": {},
   "outputs": [],
   "source": [
    "image.shape"
   ]
  },
  {
   "cell_type": "code",
   "execution_count": null,
   "metadata": {},
   "outputs": [],
   "source": [
    "np.allclose(res_cpu, image)"
   ]
  },
  {
   "cell_type": "code",
   "execution_count": null,
   "metadata": {},
   "outputs": [],
   "source": [
    "%timeit -n 100 standardize(drv.Out(dest_r), drv.Out(dest_g), drv.Out(dest_b), drv.In(r_img), drv.In(g_img),drv.In(b_img),block=(1024, 1, 1), grid=(256, 1, 1))"
   ]
  },
  {
   "cell_type": "code",
   "execution_count": null,
   "metadata": {},
   "outputs": [],
   "source": [
    "%timeit -n 100 standardize_cpu(image)"
   ]
  },
  {
   "cell_type": "code",
   "execution_count": null,
   "metadata": {},
   "outputs": [],
   "source": [
    "image = a"
   ]
  },
  {
   "cell_type": "code",
   "execution_count": null,
   "metadata": {},
   "outputs": [],
   "source": [
    "dest = np.concatenate((dest_r, dest_g, dest_b), axis=None)"
   ]
  },
  {
   "cell_type": "code",
   "execution_count": null,
   "metadata": {},
   "outputs": [],
   "source": [
    "dest.shape"
   ]
  },
  {
   "cell_type": "code",
   "execution_count": null,
   "metadata": {},
   "outputs": [],
   "source": [
    "dest_r"
   ]
  },
  {
   "cell_type": "code",
   "execution_count": null,
   "metadata": {},
   "outputs": [],
   "source": [
    "res[:,:,0].shape"
   ]
  },
  {
   "cell_type": "code",
   "execution_count": null,
   "metadata": {},
   "outputs": [],
   "source": [
    "dest_r.shape"
   ]
  },
  {
   "cell_type": "code",
   "execution_count": null,
   "metadata": {},
   "outputs": [],
   "source": []
  },
  {
   "cell_type": "code",
   "execution_count": null,
   "metadata": {},
   "outputs": [],
   "source": []
  },
  {
   "cell_type": "code",
   "execution_count": null,
   "metadata": {},
   "outputs": [],
   "source": [
    "dest_g=np.reshape(dest_g,(512,512), order='F')\n",
    "np.allclose(dest_g, res[:,:,1])"
   ]
  },
  {
   "cell_type": "code",
   "execution_count": null,
   "metadata": {},
   "outputs": [],
   "source": []
  },
  {
   "cell_type": "code",
   "execution_count": null,
   "metadata": {},
   "outputs": [],
   "source": [
    "dest_b.shape"
   ]
  },
  {
   "cell_type": "code",
   "execution_count": null,
   "metadata": {},
   "outputs": [],
   "source": [
    "dest_b"
   ]
  },
  {
   "cell_type": "code",
   "execution_count": null,
   "metadata": {},
   "outputs": [],
   "source": [
    "res[:,:,1]"
   ]
  },
  {
   "cell_type": "code",
   "execution_count": null,
   "metadata": {},
   "outputs": [],
   "source": [
    "b_img"
   ]
  },
  {
   "cell_type": "code",
   "execution_count": null,
   "metadata": {},
   "outputs": [],
   "source": [
    "a = cv2.imread('./lena.png').astype(np.float32)\n",
    "r_img = a[:, :, 0].reshape(262144, order='F')\n",
    "g_img = a[:, :, 1].reshape(262144, order='F')\n",
    "b_img = a[:, :, 2].reshape(262144, order='F')"
   ]
  },
  {
   "cell_type": "code",
   "execution_count": null,
   "metadata": {},
   "outputs": [],
   "source": [
    "b_img"
   ]
  },
  {
   "cell_type": "code",
   "execution_count": null,
   "metadata": {},
   "outputs": [],
   "source": [
    "r_img"
   ]
  },
  {
   "cell_type": "code",
   "execution_count": null,
   "metadata": {},
   "outputs": [],
   "source": [
    "import numpy as np\n",
    "import scipy.misc as scm\n",
    "import matplotlib.pyplot as p\n",
    "\n",
    "mod = SourceModule \\\n",
    "    (\n",
    "        \"\"\"\n",
    "#include<stdio.h>\n",
    "#define INDEX(a, b) a*512+b\n",
    "\n",
    "__global__ void standardize(float *dest_r, float *r_img)\n",
    "{\n",
    "\n",
    "unsigned int idx = threadIdx.x+(blockIdx.x*(blockDim.x*blockDim.y));\n",
    "\n",
    "  unsigned int a = idx/512;\n",
    "  unsigned int b = idx%512;\n",
    "  dest_r[INDEX(a, b)] = ((r_img[INDEX(a, b)]/255 - 0.485)) / 0.229;\n",
    "  //dest_r[INDEX(a, b)] = ((r_img[INDEX(a, b)]/255 - 0.406)) / 0.225;\n",
    "}\n",
    "\n",
    "\"\"\")\n",
    "a = cv2.imread('./lena.png').astype(np.float32)\n",
    "r_img = a[:, :, 0].reshape(262144, order='F')\n",
    "g_img = a[:, :, 1].reshape(262144, order='F')\n",
    "b_img = a[:, :, 2].reshape(262144, order='F')\n",
    "dest_r=r_img\n",
    "dest_g=g_img\n",
    "dest_b=np.zeros_like(b_img)\n",
    "print(dest_b)\n",
    "standardize = mod.get_function(\"standardize\")\n",
    "standardize(drv.Out(dest_r), drv.In(r_img),block=(1024, 1, 1), grid=(256, 1, 1))\n",
    "\n",
    "dest_r=np.reshape(dest_r,(512,512), order='F')\n",
    "dest_b=np.reshape(dest_b,(512,512), order='F')\n",
    "p.imshow(dest_r)\n",
    "p.show()"
   ]
  },
  {
   "cell_type": "code",
   "execution_count": null,
   "metadata": {},
   "outputs": [],
   "source": [
    "np.allclose(dest_r, res[:,:,0])"
   ]
  },
  {
   "cell_type": "code",
   "execution_count": null,
   "metadata": {},
   "outputs": [],
   "source": [
    "dest_r"
   ]
  },
  {
   "cell_type": "code",
   "execution_count": null,
   "metadata": {},
   "outputs": [],
   "source": [
    "res[:,:,0]"
   ]
  },
  {
   "cell_type": "code",
   "execution_count": null,
   "metadata": {},
   "outputs": [],
   "source": []
  },
  {
   "cell_type": "code",
   "execution_count": null,
   "metadata": {},
   "outputs": [],
   "source": [
    "dest_r.shape"
   ]
  },
  {
   "cell_type": "code",
   "execution_count": null,
   "metadata": {},
   "outputs": [],
   "source": [
    "res_gpu_2[100]"
   ]
  },
  {
   "cell_type": "code",
   "execution_count": null,
   "metadata": {},
   "outputs": [],
   "source": [
    "x = res_cpu.transpose((2, 0, 1))"
   ]
  },
  {
   "cell_type": "code",
   "execution_count": null,
   "metadata": {},
   "outputs": [],
   "source": [
    "x.shape"
   ]
  },
  {
   "cell_type": "code",
   "execution_count": null,
   "metadata": {},
   "outputs": [],
   "source": [
    "dest_r=np.reshape(dest_r,(512,512), order='F')\n",
    "print(np.allclose(dest_r, x[0, :,:]))"
   ]
  },
  {
   "cell_type": "code",
   "execution_count": null,
   "metadata": {},
   "outputs": [],
   "source": [
    "dest_r=np.reshape(dest_r,(512,512), order='C')\n",
    "print(np.allclose(dest_r, res_cpu[:,:,0]))\n",
    "dest_g=np.reshape(dest_g,(512,512), order='C')\n",
    "print(np.allclose(dest_g, res_cpu[:,:,1]))\n",
    "dest_b=np.reshape(dest_b,(512,512), order='C')\n",
    "print(np.allclose(dest_b, res_cpu[:,:,2]))"
   ]
  },
  {
   "cell_type": "code",
   "execution_count": null,
   "metadata": {},
   "outputs": [],
   "source": [
    "a.shape"
   ]
  },
  {
   "cell_type": "code",
   "execution_count": null,
   "metadata": {},
   "outputs": [],
   "source": [
    "import matplotlib.pyplot as plt\n",
    "plt.imshow(a)\n",
    "plt.show()"
   ]
  },
  {
   "cell_type": "code",
   "execution_count": null,
   "metadata": {},
   "outputs": [],
   "source": [
    "import cv2"
   ]
  },
  {
   "cell_type": "code",
   "execution_count": null,
   "metadata": {},
   "outputs": [],
   "source": [
    "import pycuda.driver as drv\n",
    "import pycuda.tools\n",
    "import pycuda.autoinit\n",
    "from pycuda.compiler import SourceModule\n",
    "import numpy as np\n",
    "import scipy.misc as scm\n",
    "import matplotlib.pyplot as p\n",
    "\n",
    "mod = SourceModule \\\n",
    "    (\n",
    "        \"\"\"\n",
    "\n",
    "__global__ void standardize(float *dest_r, float *dest_g, float *dest_b, float *r_img, float *g_img, float *b_img)\n",
    "{\n",
    "\n",
    "unsigned int idx = threadIdx.x+(blockIdx.x*(blockDim.x*blockDim.y));\n",
    "\n",
    "dest_r[idx] = ((r_img[idx]/255 - 0.485)) / 0.229;\n",
    "dest_g[idx] = ((g_img[idx]/255 - 0.456)) / 0.224;\n",
    "dest_b[idx] = ((b_img[idx]/255 - 0.406)) / 0.225;\n",
    "\n",
    "\n",
    "}\n",
    "\n",
    "\"\"\")\n",
    "a = cv2.imread('./lena.png').astype(np.float32)\n",
    "r_img = a[:, :, 0].reshape(262144, order='F')\n",
    "g_img = a[:, :, 1].reshape(262144, order='F')\n",
    "b_img = a[:, :, 2].reshape(262144, order='F')\n",
    "dest_r=r_img\n",
    "dest_g=g_img\n",
    "dest_b=b_img\n",
    "standardize = mod.get_function(\"standardize\")\n",
    "standardize(drv.Out(dest_r), drv.Out(dest_g), drv.Out(dest_b), drv.In(r_img), drv.In(g_img),drv.In(b_img),block=(1024, 1, 1), grid=(256, 1, 1))\n",
    "\n",
    "dest_r=np.reshape(dest_r,(512,512), order='F')\n",
    "dest_b=np.reshape(dest_b,(512,512), order='F')\n",
    "p.imshow(dest_b)\n",
    "p.show()"
   ]
  },
  {
   "cell_type": "code",
   "execution_count": null,
   "metadata": {},
   "outputs": [],
   "source": [
    "import numpy as np\n",
    "import cv2\n",
    "\n",
    "def standardize_cpu(image):\n",
    "    rgb_means = [0.485, 0.456, 0.406]\n",
    "    rgb_means_array = np.reshape(np.array(rgb_means), (1, 1, len(rgb_means)))\n",
    "\n",
    "    rgb_stddevs = [0.229, 0.224, 0.225]\n",
    "    rgb_stddevs_array = np.reshape(np.array(rgb_stddevs), (1, 1, len(rgb_stddevs)))\n",
    "\n",
    "    image = image / 255.0\n",
    "    image -= rgb_means_array\n",
    "    image /= rgb_stddevs_array\n",
    "    return image\n",
    "\n",
    "import pycuda.driver as drv\n",
    "import pycuda.tools\n",
    "import pycuda.autoinit\n",
    "from pycuda.compiler import SourceModule\n",
    "import numpy as np\n",
    "\n",
    "mod = SourceModule \\\n",
    "    (\n",
    "        \"\"\"                                                                                                                                                                              \n",
    "                                                                                                                                                              \n",
    "                                                                                                                                                                                         \n",
    "__global__ void standardize(float *dest_r, float *dest_g, float *dest_b, float *r_img, float *g_img, float *b_img)                                                                       \n",
    "{                                                                                                                                                                                        \n",
    "                                                                                                                                                                                         \n",
    "unsigned int idx = threadIdx.x+(blockIdx.x*(blockDim.x*blockDim.y));\n",
    "\n",
    "dest_r[idx] = ((r_img[idx]/255 - 0.485)) / 0.229;\n",
    "dest_g[idx] = ((g_img[idx]/255 - 0.456)) / 0.224;\n",
    "dest_b[idx] = ((b_img[idx]/255 - 0.406)) / 0.225;                                                                                                                                                                                  \n",
    "}                                                                                                                                                                                        \n",
    "                                                                                                                                                                                         \n",
    "\"\"\")\n",
    "#a = np.random.randint(0, 256, (512, 512, 3), dtype=np.uint8)\n",
    "a = np.load(\"/home/nvidia/resized.npy\")\n",
    "# r_img = a[:, :, 0].reshape(262144, order='F').astype(np.float32)\n",
    "# g_img = a[:, :, 1].reshape(262144, order='F').astype(np.float32)\n",
    "# b_img = a[:, :, 2].reshape(262144, order='F').astype(np.float32)\n",
    "r_img = a[:, :, 0].reshape(262144).astype(np.float32)\n",
    "g_img = a[:, :, 1].reshape(262144).astype(np.float32)\n",
    "b_img = a[:, :, 2].reshape(262144).astype(np.float32)\n",
    "dest_r=np.zeros_like(r_img).astype(np.float32)\n",
    "dest_g=np.zeros_like(g_img).astype(np.float32)\n",
    "dest_b=np.zeros_like(b_img).astype(np.float32)\n",
    "standardize = mod.get_function(\"standardize\")\n",
    "standardize(drv.Out(dest_r), drv.Out(dest_g), drv.Out(dest_b), drv.In(r_img), drv.In(g_img),drv.In(b_img),block=(1024, 1, 1), grid=(256, 1, 1))\n",
    "\n",
    "res_cpu = standardize_cpu(a)\n",
    "# dest_r=np.reshape(dest_r,(512,512), order='F')\n",
    "# print(np.allclose(dest_r, res_cpu[:,:,0]))\n",
    "# dest_g=np.reshape(dest_g,(512,512), order='F')\n",
    "# print(np.allclose(dest_g, res_cpu[:,:,1]))\n",
    "# dest_b=np.reshape(dest_b,(512,512), order='F')\n",
    "# print(np.allclose(dest_b, res_cpu[:,:,2]))\n",
    "\n",
    "res_gpu_2 = np.concatenate((dest_r, dest_g, dest_b), axis=None)\n",
    "res_cpu_2 = res_cpu.transpose((2, 0, 1)).ravel()\n",
    "print(np.allclose(res_gpu_2, res_cpu_2))"
   ]
  },
  {
   "cell_type": "code",
   "execution_count": null,
   "metadata": {},
   "outputs": [],
   "source": []
  },
  {
   "cell_type": "code",
   "execution_count": null,
   "metadata": {},
   "outputs": [],
   "source": [
    "import numpy as np\n",
    "import cv2\n",
    "\n",
    "def standardize_cpu(image):\n",
    "    rgb_means = [0.485, 0.456, 0.406]\n",
    "    rgb_means_array = np.reshape(np.array(rgb_means), (1, 1, len(rgb_means)))\n",
    "\n",
    "    rgb_stddevs = [0.229, 0.224, 0.225]\n",
    "    rgb_stddevs_array = np.reshape(np.array(rgb_stddevs), (1, 1, len(rgb_stddevs)))\n",
    "\n",
    "    image = image / 255.0\n",
    "    image -= rgb_means_array\n",
    "    image /= rgb_stddevs_array\n",
    "    return image\n",
    "\n",
    "import pycuda.driver as drv\n",
    "import pycuda.tools\n",
    "import pycuda.autoinit\n",
    "from pycuda.compiler import SourceModule\n",
    "import numpy as np\n",
    "\n",
    "mod = SourceModule \\\n",
    "    (\n",
    "        \"\"\"\n",
    "__global__ void standardize(float *dest_r, float *dest_g, float *dest_b, float *r_img, float *g_img, float *b_img, int image_size)\n",
    "{\n",
    "    int total_thread_count = blockDim.x * gridDim.x;\n",
    "    int global_thread_id = threadIdx.x+(blockIdx.x*(blockDim.x));\n",
    "    for(int i = global_thread_id; i < image_size; i += total_thread_count)\n",
    "    {\n",
    "        dest_r[i] = ((r_img[i]/255 - 0.485)) / 0.229;\n",
    "        dest_g[i] = ((g_img[i]/255 - 0.456)) / 0.224;\n",
    "        dest_b[i] = ((b_img[i]/255 - 0.406)) / 0.225;\n",
    "    }\n",
    "}\n",
    "\"\"\")\n",
    "w = 512\n",
    "h = 512\n",
    "\n",
    "a = np.random.randint(0, 256, (h, w, 3), dtype=np.uint8)\n",
    "#a = np.load(\"/home/nvidia/resized.npy\")\n",
    "# r_img = a[:, :, 0].reshape(262144, order='F').astype(np.float32)\n",
    "# g_img = a[:, :, 1].reshape(262144, order='F').astype(np.float32)\n",
    "# b_img = a[:, :, 2].reshape(262144, order='F').astype(np.float32)\n",
    "r_img = a[:, :, 0].reshape(w * h).astype(np.float32)\n",
    "g_img = a[:, :, 1].reshape(w * h).astype(np.float32)\n",
    "b_img = a[:, :, 2].reshape(w * h).astype(np.float32)\n",
    "\n",
    "r_img = np.ones(w * h).astype(np.float32)\n",
    "g_img = np.ones(w * h).astype(np.float32) + 1\n",
    "b_img = np.ones(w * h).astype(np.float32) + 2\n",
    "a = np.stack([np.ones((w,h)), np.ones((w, h)) + 1, np.ones((w, h)) + 2], axis=2)\n",
    "\n",
    "dest_r=np.zeros_like(r_img).astype(np.float32)\n",
    "dest_g=np.zeros_like(g_img).astype(np.float32)\n",
    "dest_b=np.zeros_like(b_img).astype(np.float32)\n",
    "\n",
    "standardize = mod.get_function(\"standardize\")\n",
    "image_size = np.intc(w*h)\n",
    "standardize(drv.Out(dest_r), drv.Out(dest_g), drv.Out(dest_b), drv.In(r_img), drv.In(g_img),drv.In(b_img), image_size,block=(1024, 1, 1), grid=(256, 1, 1))\n",
    "\n",
    "res_cpu = standardize_cpu(a)\n",
    "# dest_r=np.reshape(dest_r,(512,512), order='F')\n",
    "# print(np.allclose(dest_r, res_cpu[:,:,0]))\n",
    "# dest_g=np.reshape(dest_g,(512,512), order='F')\n",
    "# print(np.allclose(dest_g, res_cpu[:,:,1]))\n",
    "# dest_b=np.reshape(dest_b,(512,512), order='F')\n",
    "# print(np.allclose(dest_b, res_cpu[:,:,2]))\n",
    "\n",
    "res_gpu_2 = np.concatenate((dest_r, dest_g, dest_b), axis=None)\n",
    "res_cpu_2 = res_cpu.transpose((2, 0, 1)).ravel()\n",
    "print(np.allclose(res_gpu_2, res_cpu_2))"
   ]
  },
  {
   "cell_type": "code",
   "execution_count": null,
   "metadata": {},
   "outputs": [],
   "source": [
    "res_gpu_2"
   ]
  },
  {
   "cell_type": "code",
   "execution_count": null,
   "metadata": {},
   "outputs": [],
   "source": [
    "res_cpu"
   ]
  },
  {
   "cell_type": "code",
   "execution_count": null,
   "metadata": {},
   "outputs": [],
   "source": [
    "dest_r"
   ]
  },
  {
   "cell_type": "code",
   "execution_count": null,
   "metadata": {},
   "outputs": [],
   "source": [
    "res_cpu.shape"
   ]
  },
  {
   "cell_type": "code",
   "execution_count": null,
   "metadata": {},
   "outputs": [],
   "source": [
    "res_cpu"
   ]
  },
  {
   "cell_type": "code",
   "execution_count": null,
   "metadata": {},
   "outputs": [],
   "source": [
    "res_cpu[:,:,0]"
   ]
  },
  {
   "cell_type": "code",
   "execution_count": null,
   "metadata": {},
   "outputs": [],
   "source": [
    "np.allclose(res_cpu[:,:,0], dest_r.reshape(res_cpu[:,:,0].shape))"
   ]
  },
  {
   "cell_type": "code",
   "execution_count": null,
   "metadata": {},
   "outputs": [],
   "source": [
    "np.allclose(res_cpu[:,:,1], dest_g.reshape(res_cpu[:,:,1].shape))"
   ]
  },
  {
   "cell_type": "code",
   "execution_count": null,
   "metadata": {},
   "outputs": [],
   "source": [
    "res_cpu[:,:,1]"
   ]
  },
  {
   "cell_type": "code",
   "execution_count": null,
   "metadata": {},
   "outputs": [],
   "source": [
    "dest_g.reshape(res_cpu[:,:,2].shape)"
   ]
  },
  {
   "cell_type": "code",
   "execution_count": null,
   "metadata": {},
   "outputs": [],
   "source": [
    "x.shape"
   ]
  },
  {
   "cell_type": "code",
   "execution_count": null,
   "metadata": {},
   "outputs": [],
   "source": [
    "r_img.shape"
   ]
  },
  {
   "cell_type": "code",
   "execution_count": null,
   "metadata": {},
   "outputs": [],
   "source": [
    "x = np.stack([np.ones((w,h)), np.ones((w, h)) + 1, np.ones((w, h)) + 2], axis=2)"
   ]
  },
  {
   "cell_type": "code",
   "execution_count": null,
   "metadata": {},
   "outputs": [],
   "source": [
    "x.shape"
   ]
  },
  {
   "cell_type": "code",
   "execution_count": null,
   "metadata": {},
   "outputs": [],
   "source": [
    "a = np.ones((w, h)) + 1"
   ]
  },
  {
   "cell_type": "code",
   "execution_count": null,
   "metadata": {},
   "outputs": [],
   "source": [
    "b = np.ones((w, h)) + 2"
   ]
  },
  {
   "cell_type": "code",
   "execution_count": null,
   "metadata": {},
   "outputs": [],
   "source": [
    "c = np.ones((w, h))"
   ]
  },
  {
   "cell_type": "code",
   "execution_count": null,
   "metadata": {},
   "outputs": [],
   "source": [
    "x = np.concatenate(a, b, c)"
   ]
  },
  {
   "cell_type": "code",
   "execution_count": null,
   "metadata": {},
   "outputs": [],
   "source": [
    "a.shape"
   ]
  },
  {
   "cell_type": "code",
   "execution_count": null,
   "metadata": {},
   "outputs": [],
   "source": []
  }
 ],
 "metadata": {
  "kernelspec": {
   "display_name": "Python 3",
   "language": "python",
   "name": "python3"
  },
  "language_info": {
   "codemirror_mode": {
    "name": "ipython",
    "version": 3
   },
   "file_extension": ".py",
   "mimetype": "text/x-python",
   "name": "python",
   "nbconvert_exporter": "python",
   "pygments_lexer": "ipython3",
   "version": "3.6.8"
  }
 },
 "nbformat": 4,
 "nbformat_minor": 4
}
