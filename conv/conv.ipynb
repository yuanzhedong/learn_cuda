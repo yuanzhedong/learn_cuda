{
 "cells": [
  {
   "cell_type": "code",
   "execution_count": 3,
   "metadata": {},
   "outputs": [],
   "source": [
    "import numpy as np\n",
    "\n",
    "def corr2d(X, K):\n",
    "    \"\"\"Compute 2D cross-correlation.\"\"\"\n",
    "    h, w = K.shape\n",
    "    Y = np.zeros((X.shape[0] - h + 1, X.shape[1] - w + 1))\n",
    "    for i in range(Y.shape[0]):\n",
    "        for j in range(Y.shape[1]):\n",
    "            Y[i, j] = np.sum((X[i: i + h, j: j + w] * K))\n",
    "    return Y"
   ]
  },
  {
   "cell_type": "code",
   "execution_count": 4,
   "metadata": {},
   "outputs": [
    {
     "data": {
      "text/plain": [
       "array([[19., 25.],\n",
       "       [37., 43.]])"
      ]
     },
     "execution_count": 4,
     "metadata": {},
     "output_type": "execute_result"
    }
   ],
   "source": [
    "X = np.array([[0.0, 1.0, 2.0], [3.0, 4.0, 5.0], [6.0, 7.0, 8.0]])\n",
    "K = np.array([[0.0, 1.0], [2.0, 3.0]])\n",
    "corr2d(X, K)"
   ]
  },
  {
   "cell_type": "code",
   "execution_count": 74,
   "metadata": {},
   "outputs": [],
   "source": [
    "def convolve2D(x, kernel, padding=0, strides=1):\n",
    "\n",
    "    # Gather Shapes of Kernel + Image + Padding\n",
    "    k_h, k_w, k_in, k_out = kernel.shape\n",
    "    b_size, x_h, x_w, x_in = x.shape\n",
    "\n",
    "    # Shape of Output Convolution\n",
    "    y_h = int(((x_h - k_h + 2 * padding) / strides) + 1)\n",
    "    y_w = int(((x_w - k_w + 2 * padding) / strides) + 1)\n",
    "    output = np.zeros((b_size, y_h, y_w, k_out))\n",
    "\n",
    "    # Apply Equal Padding to All Sides\n",
    "    for b in range(b_size):\n",
    "        if padding != 0:\n",
    "            x_padded = np.zeros((x_h + padding*2, x_w + padding*2, k_in))\n",
    "            x_padded[int(padding):int(-1 * padding), int(padding):int(-1 * padding)] = x[b]\n",
    "            print(x_padded.shape)\n",
    "        else:\n",
    "            x_padded = x[b]\n",
    "\n",
    "        # Iterate through col\n",
    "        for y in range(output.shape[2]):\n",
    "            if y % strides == 0:\n",
    "                for x in range(output.shape[1]):\n",
    "                    try:\n",
    "                        # Only Convolve if x has moved by the specified Strides\n",
    "                        if x % strides == 0:\n",
    "                            for c in range(output.shape[3]):\n",
    "                                output[b, x, y, c] = (kernel[:,:,:,c] * x_padded[x: x + k_h, y: y + k_w]).sum() \n",
    "                    except:\n",
    "                        break\n",
    "\n",
    "    return output"
   ]
  },
  {
   "cell_type": "code",
   "execution_count": 103,
   "metadata": {},
   "outputs": [],
   "source": [
    "image = np.ones((1, 5, 5, 3))  # shape = (1, 10, 10, 3)  NxHxWxC\n",
    "kernel = np.ones((2, 2, 3, 2))  # shape = (3, 3, 3, 10)  KxKxIxO"
   ]
  },
  {
   "cell_type": "code",
   "execution_count": 108,
   "metadata": {},
   "outputs": [],
   "source": [
    "output = convolve2D(image, kernel, 0, 1)"
   ]
  },
  {
   "cell_type": "code",
   "execution_count": 109,
   "metadata": {},
   "outputs": [
    {
     "data": {
      "text/plain": [
       "(1, 4, 4, 2)"
      ]
     },
     "execution_count": 109,
     "metadata": {},
     "output_type": "execute_result"
    }
   ],
   "source": [
    "output.shape"
   ]
  },
  {
   "cell_type": "code",
   "execution_count": 110,
   "metadata": {},
   "outputs": [
    {
     "data": {
      "text/plain": [
       "(1, 4, 4, 2)"
      ]
     },
     "execution_count": 110,
     "metadata": {},
     "output_type": "execute_result"
    }
   ],
   "source": [
    "output.shape"
   ]
  },
  {
   "cell_type": "code",
   "execution_count": 111,
   "metadata": {},
   "outputs": [
    {
     "data": {
      "text/plain": [
       "array([[12., 12., 12., 12.],\n",
       "       [12., 12., 12., 12.],\n",
       "       [12., 12., 12., 12.],\n",
       "       [12., 12., 12., 12.]])"
      ]
     },
     "execution_count": 111,
     "metadata": {},
     "output_type": "execute_result"
    }
   ],
   "source": [
    "output[0][:,:,0]"
   ]
  },
  {
   "cell_type": "code",
   "execution_count": null,
   "metadata": {},
   "outputs": [],
   "source": []
  }
 ],
 "metadata": {
  "kernelspec": {
   "display_name": "Python [conda env:tensorrt] *",
   "language": "python",
   "name": "conda-env-tensorrt-py"
  },
  "language_info": {
   "codemirror_mode": {
    "name": "ipython",
    "version": 3
   },
   "file_extension": ".py",
   "mimetype": "text/x-python",
   "name": "python",
   "nbconvert_exporter": "python",
   "pygments_lexer": "ipython3",
   "version": "3.6.9"
  }
 },
 "nbformat": 4,
 "nbformat_minor": 4
}
